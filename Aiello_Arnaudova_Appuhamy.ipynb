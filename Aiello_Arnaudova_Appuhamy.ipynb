{
  "cells": [
    {
      "cell_type": "markdown",
      "metadata": {
        "id": "4MGTWLXgf2lu"
      },
      "source": [
        "## Biogas plant\n",
        "\n",
        "You want to plan the two-year supply of raw materials for a biogas power plant. Such a plant produces energy by burning biogas, which is obtained from the bacterial fermentation of organic wastes. \n",
        "Specifically, your plant is powered by corn chopping, a residual of agro-industrial operations that you can purchase from 5 local farms. \n",
        "The table below shows the quarterly capacity of each farm for the next two years. Quantities are measured in tons.\n",
        "\n",
        "Farm|T1|T2|T3|T4|T5|T6|T7|T8\n",
        ":-|:-:|:-:|:-:|:-:|:-:|:-:|:-:|:-:\n",
        "1|700|1500|700|0|0|700|1500|0\n",
        "2|1350|0|450|0|1350|0|450|0\n",
        "3|0|1500|1500|0|0|1500|1500|0\n",
        "4|820|1560|820|0|820|1560|820|0\n",
        "5|0|680|1080|0|0|680|1080|0\n",
        "\n",
        "Due to crop rotations and corn harvesting periods, farms are unable to supply material in some quarters. Moreover the types of corn chopping provided are different, each coming with its own unitary purchase price, unitary storage cost and percentage of dry matter. The table below shows a summary of these information.\n",
        "\n",
        "Farm|Purchase price|Storage cost|Dry matter\n",
        ":-|:-:|:-:|:-:\n",
        "1|0.20|0.002|15\n",
        "2|0.18|0.012|28\n",
        "3|0.19|0.007|35\n",
        "4|0.21|0.011|37\n",
        "5|0.23|0.015|42\n",
        "\n",
        "Your biogas plant must operate by burning a mixture of corn choppings with a dry matter percentage between 20% and 40%. Under these conditions, the yield is 421.6 kWh of energy per ton of burned material. The energy produced by the plant is sold on the market at a price of 0.28 $/kWh. \n",
        "\n",
        "Due to state regulations, all biogas plants can produce a maximum of 1950 MWh of energy per quarter. You are allowed to store corn chopping in a silo, whose total capacity is of 500 tons. \n",
        "\n",
        "Plan the supply and inventory of your biogas plant with the goal of maximizing your profits (i.e., revenues minus costs)."
      ]
    },
    {
      "cell_type": "code",
      "execution_count": 40,
      "metadata": {
        "id": "AXjbD65XQCeH",
        "colab": {
          "base_uri": "https://localhost:8080/"
        },
        "outputId": "972020c7-d18a-4178-ad3f-8b6c013b5e99"
      },
      "outputs": [
        {
          "output_type": "stream",
          "name": "stdout",
          "text": [
            "Looking in indexes: https://pypi.org/simple, https://us-python.pkg.dev/colab-wheels/public/simple/\n",
            "Requirement already satisfied: cffi==1.15.0 in /usr/local/lib/python3.8/dist-packages (1.15.0)\n",
            "Requirement already satisfied: pycparser in /usr/local/lib/python3.8/dist-packages (from cffi==1.15.0) (2.21)\n",
            "Looking in indexes: https://pypi.org/simple, https://us-python.pkg.dev/colab-wheels/public/simple/\n",
            "Requirement already satisfied: mip in /usr/local/lib/python3.8/dist-packages (1.14.1)\n",
            "Requirement already satisfied: cffi==1.15.0 in /usr/local/lib/python3.8/dist-packages (from mip) (1.15.0)\n",
            "Requirement already satisfied: pycparser in /usr/local/lib/python3.8/dist-packages (from cffi==1.15.0->mip) (2.21)\n"
          ]
        }
      ],
      "source": [
        "# When using Colab, make sure you run this instruction beforehand\n",
        "\n",
        "!pip install --upgrade cffi==1.15.0\n",
        "import importlib\n",
        "import cffi\n",
        "import numpy as np\n",
        "importlib.reload(cffi)\n",
        "!pip install mip"
      ]
    },
    {
      "cell_type": "code",
      "execution_count": 41,
      "metadata": {
        "id": "Yve036asRGl9"
      },
      "outputs": [],
      "source": [
        "import mip"
      ]
    },
    {
      "cell_type": "markdown",
      "source": [
        "Project made by:\n",
        "Tommaso Aiello |\n",
        "Evelina Arnaudova |\n",
        "Brian Shehara Appuhamy"
      ],
      "metadata": {
        "id": "orkuD3Yf5kxX"
      }
    },
    {
      "cell_type": "markdown",
      "source": [
        "## Sets"
      ],
      "metadata": {
        "id": "7AM0Vxm31Jk5"
      }
    },
    {
      "cell_type": "code",
      "source": [
        "#number of farms\n",
        "farms=5\n",
        "F = [i for i in range(farms)]\n",
        "#number of quarters\n",
        "quarters = 8\n",
        "Q = [j for j in range(quarters)]"
      ],
      "metadata": {
        "id": "Ybl1toVh1NCA"
      },
      "execution_count": 42,
      "outputs": []
    },
    {
      "cell_type": "markdown",
      "source": [
        "## Parameters"
      ],
      "metadata": {
        "id": "-uKYna_91j6y"
      }
    },
    {
      "cell_type": "code",
      "source": [
        "#quarter on column, farm on rows\n",
        "corn_availability =[[700.0, 1500.0 ,700.0 , 0.0 , 0.0 , 700.0 , 1500.0 , 0.0 ],\n",
        "                    [1350.0 , 0.0 , 450.0 , 0.0 , 1350.0 , 0.0 , 450.0 , 0.0 ],\n",
        "                    [0.0,1500.0,1500.0, 0.0 , 0.0 , 1500.0 , 1500.0 , 0.0 ],\n",
        "                    [820.0 ,1560.0 , 820.0 , 0.0, 820.0 , 1560.0 , 820.0 , 0.0],\n",
        "                    [0.0 , 680.0 , 1080.0 ,0.0 ,0.0 ,680.0,1080.0,0.0]]\n",
        "\n",
        "#purchase price per farm\n",
        "purchase_price = [0.2,0.18,0.19,0.21,0.23] #i\n",
        "\n",
        "#storage cost\n",
        "storage_cost = [0.002,0.012,0.007,0.011,0.015] #i\n",
        "\n",
        "#dry_matter\n",
        "dry_matter = [0.15,0.28,0.35,0.37,0.42] #i\n",
        "\n",
        "#percentage of drymatter\n",
        "min_percentage = 0.20\n",
        "max_percentage = 0.40\n",
        "\n",
        "#energy that a ton of crop produces, in kWh\n",
        "energy_per_ton = 421.6\n",
        "\n",
        "#revenue that a kwh generates\n",
        "market_price = 0.28\n",
        "\n",
        "#energy that can be produced in a quarter at most, in kWh\n",
        "max_energy_quarter = 1950000.0\n",
        "\n",
        "#max ton of crop that can be stored in silos\n",
        "silos_capacity = 500.0\n"
      ],
      "metadata": {
        "id": "GNoyBMqR1mmV"
      },
      "execution_count": 43,
      "outputs": []
    },
    {
      "cell_type": "markdown",
      "source": [
        "## Model"
      ],
      "metadata": {
        "id": "_1f_E_qRc7SQ"
      }
    },
    {
      "cell_type": "code",
      "source": [
        "m = mip.Model()"
      ],
      "metadata": {
        "id": "isZ6HgVnc9LE"
      },
      "execution_count": 44,
      "outputs": []
    },
    {
      "cell_type": "markdown",
      "source": [
        "## Variables"
      ],
      "metadata": {
        "id": "ULexCcgo6fEZ"
      }
    },
    {
      "cell_type": "code",
      "source": [
        "# A quantity that we buy for each farm i for each quarter j \n",
        "quantity = [[m.add_var(var_type=mip.CONTINUOUS) for j in Q] for i in F]"
      ],
      "metadata": {
        "id": "7PAbMrvl6hYV"
      },
      "execution_count": 45,
      "outputs": []
    },
    {
      "cell_type": "code",
      "source": [
        "# A variable to count the tons of crop for each farm i in quarter j that we have put in the silos\n",
        "corn_in_sillos = [[m.add_var(var_type= mip.CONTINUOUS) for j in Q] for i in F]"
      ],
      "metadata": {
        "id": "c5IJ81L8gqaQ"
      },
      "execution_count": 46,
      "outputs": []
    },
    {
      "cell_type": "code",
      "source": [
        "# Tons of crop from farm i in quarter j we burn to produce energy \n",
        "burnt_quantity = [[m.add_var(var_type=mip.CONTINUOUS) for j in Q] for i in F]"
      ],
      "metadata": {
        "id": "exL0o8YUDcZX"
      },
      "execution_count": 47,
      "outputs": []
    },
    {
      "cell_type": "markdown",
      "source": [
        "## Objective Function"
      ],
      "metadata": {
        "id": "g3VSsC9rhaA5"
      }
    },
    {
      "cell_type": "code",
      "source": [
        "# O.F. = max(The total revenue - the total cost to purchase the crop - the total storage cost)\n",
        "m.objective = mip.maximize(\n",
        "    mip.xsum(mip.xsum(burnt_quantity[i][j] * energy_per_ton * market_price for i in F) for j in Q)  # revenue\n",
        "    -mip.xsum(mip.xsum(quantity[i][j] * purchase_price[i] for i in F) for j in Q)                   # purchase cost\n",
        "    -mip.xsum(mip.xsum(corn_in_sillos[i][j] * storage_cost[i] for i in F) for j in Q)               # sillos's cost\n",
        ")"
      ],
      "metadata": {
        "id": "ATI6GClUhc-D"
      },
      "execution_count": 48,
      "outputs": []
    },
    {
      "cell_type": "markdown",
      "source": [
        "## Constraints"
      ],
      "metadata": {
        "id": "rzH2YpiGhd6W"
      }
    },
    {
      "cell_type": "code",
      "source": [
        "# Non negativity constraints\n",
        "for i in F:\n",
        "  for j in Q:\n",
        "    m.add_constr(quantity[i][j] >= 0.0)\n",
        "    m.add_constr(corn_in_sillos[i][j] >= 0.0)\n",
        "    m.add_constr(burnt_quantity[i][j] >= 0.0)"
      ],
      "metadata": {
        "id": "T9b3LA-N6bJu"
      },
      "execution_count": 49,
      "outputs": []
    },
    {
      "cell_type": "code",
      "source": [
        "# Balancing constrain\n",
        "\n",
        "# What you buy - what you will have in the storage at the end of quarter = to tons that were burnt\n",
        "# What you buy + what you had in storage - what you will have in the storage at the end of quarter = to tons that were burnt\n",
        "# Done this for each farm i and for each quarters j\n",
        "\n",
        "for i in F:\n",
        "  m.add_constr( (quantity[i][0]) - corn_in_sillos[i][0] == (burnt_quantity[i][0]))\n",
        "for j in Q[1:]: \n",
        "  for i in F:\n",
        "    m.add_constr( (quantity[i][j]) - corn_in_sillos[i][j] + corn_in_sillos[i][j-1] == (burnt_quantity[i][j]))\n",
        "\n"
      ],
      "metadata": {
        "id": "1bOwNEOg0xzU"
      },
      "execution_count": 50,
      "outputs": []
    },
    {
      "cell_type": "code",
      "source": [
        "# Silos capacity\n",
        "for j in Q:\n",
        "    m.add_constr(mip.xsum(corn_in_sillos[i][j] for i in F) <= silos_capacity )"
      ],
      "metadata": {
        "id": "bsE3Vbwghf-4"
      },
      "execution_count": 51,
      "outputs": []
    },
    {
      "cell_type": "code",
      "source": [
        "# Farm capacity: corn availability for each farm\n",
        "for i in F:\n",
        "  for j in Q:\n",
        "    m.add_constr(quantity[i][j] <= corn_availability[i][j])"
      ],
      "metadata": {
        "id": "dm3bfmCnkOst"
      },
      "execution_count": 52,
      "outputs": []
    },
    {
      "cell_type": "code",
      "source": [
        "# Max energy that you can produce in each quarter\n",
        "for j in Q:\n",
        "  m.add_constr(mip.xsum(burnt_quantity[i][j] for i in F)*energy_per_ton <= max_energy_quarter)"
      ],
      "metadata": {
        "id": "3cz7B1B-kk3E"
      },
      "execution_count": 53,
      "outputs": []
    },
    {
      "cell_type": "code",
      "source": [
        "# Dry matter constraint\n",
        "for j in Q:\n",
        "  total_burned = mip.xsum(burnt_quantity[i][j] for i in F)\n",
        "  total_dry_matter = mip.xsum((burnt_quantity[i][j]*dry_matter[i]) for i in F )\n",
        "  m.add_constr((total_burned*min_percentage) <= total_dry_matter)\n",
        "  m.add_constr((total_burned*max_percentage) >= total_dry_matter)"
      ],
      "metadata": {
        "id": "Cv8neBjAkn4s"
      },
      "execution_count": 54,
      "outputs": []
    },
    {
      "cell_type": "markdown",
      "source": [
        "## ACTUAL OPTIMIZATION"
      ],
      "metadata": {
        "id": "jwg26DcOgbmH"
      }
    },
    {
      "cell_type": "code",
      "source": [
        "status = m.optimize()\n",
        "print('After planning the supply and the invenotry, the maximized profit would be: ')\n",
        "print(round(m.objective_value,4))"
      ],
      "metadata": {
        "id": "5-PiVvL1gbFz",
        "colab": {
          "base_uri": "https://localhost:8080/"
        },
        "outputId": "0a97f945-f8f4-4158-f2a0-7b3f745088ab"
      },
      "execution_count": 55,
      "outputs": [
        {
          "output_type": "stream",
          "name": "stdout",
          "text": [
            "After planning the supply and the invenotry, the maximized profit would be: \n",
            "2861373.9254\n"
          ]
        }
      ]
    },
    {
      "cell_type": "code",
      "source": [
        "status == mip.OptimizationStatus.OPTIMAL"
      ],
      "metadata": {
        "id": "Okg1Os6XgzBr",
        "colab": {
          "base_uri": "https://localhost:8080/"
        },
        "outputId": "79b68904-ee64-45f6-fe1b-7dfdacc40bbe"
      },
      "execution_count": 56,
      "outputs": [
        {
          "output_type": "execute_result",
          "data": {
            "text/plain": [
              "True"
            ]
          },
          "metadata": {},
          "execution_count": 56
        }
      ]
    },
    {
      "cell_type": "code",
      "source": [
        "#BRIEF SUMMARY AND PRINT OF THE RESULTS\n",
        "for j in Q:\n",
        "  print('\\nQuarter ' +  str(j+1) + '\\n')\n",
        "  energy_produced = 0\n",
        "  percentage = 0\n",
        "  tot_burned=0\n",
        "  dry_burned=0\n",
        "  money_made=0\n",
        "  cost_of_crop=0\n",
        "  cost_of_storage=0\n",
        "  for i in F:\n",
        "    energy_produced = energy_produced + (burnt_quantity[i][j].x * energy_per_ton)\n",
        "    tot_burned = tot_burned + burnt_quantity[i][j].x\n",
        "    dry_burned = dry_burned + (burnt_quantity[i][j].x * dry_matter[i])\n",
        "    if tot_burned != 0:\n",
        "      percentage= dry_burned / tot_burned\n",
        "    money_made= money_made + (burnt_quantity[i][j].x * energy_per_ton * market_price)\n",
        "    cost_of_crop = cost_of_crop + (quantity[i][j].x * purchase_price[i])\n",
        "    cost_of_storage = cost_of_storage + (corn_in_sillos[i][j].x* storage_cost[i])\n",
        "    print('BUY ' + str(i+1) +': '+ str(round(quantity[i][j].x,3))+ '/' + str(round(corn_availability[i][j],3))  + ' || IN SILOS : '+ str(round(corn_in_sillos[i][j].x,3)) + ' || BURN : ' + str(round(burnt_quantity[i][j].x,3)) )\n",
        "  print('\\nENERGY: '+ str(round(energy_produced,3))+ ' kwh\\n')\n",
        "  print('Percentage of dry matter: '+ str(round(percentage,3))+ '\\n')\n",
        "  print('Money made: ' + str(round(money_made,2)) + '\\n' )\n",
        "  print('Cost of crop: ' + str(round(cost_of_crop,3)) + '\\n')\n",
        "  print('Cost of storage: ' + str(round(cost_of_storage,3)) + '\\n')\n",
        "  print('Earnings: '+ str(round(money_made-cost_of_crop-cost_of_storage,3))+ '\\n')\n"
      ],
      "metadata": {
        "id": "UQd88zak7A62",
        "colab": {
          "base_uri": "https://localhost:8080/"
        },
        "outputId": "25b6e1ae-7d79-4a58-c782-43f9f89ef552"
      },
      "execution_count": 57,
      "outputs": [
        {
          "output_type": "stream",
          "name": "stdout",
          "text": [
            "\n",
            "Quarter 1\n",
            "\n",
            "BUY 1: 700.0/700.0 || IN SILOS : 0.0 || BURN : 700.0\n",
            "BUY 2: 1350.0/1350.0 || IN SILOS : 0.0 || BURN : 1350.0\n",
            "BUY 3: 0.0/0.0 || IN SILOS : 0.0 || BURN : 0.0\n",
            "BUY 4: 820.0/820.0 || IN SILOS : 0.0 || BURN : 820.0\n",
            "BUY 5: 0.0/0.0 || IN SILOS : 0.0 || BURN : 0.0\n",
            "\n",
            "ENERGY: 1209992.0 kwh\n",
            "\n",
            "Percentage of dry matter: 0.274\n",
            "\n",
            "Money made: 338797.76\n",
            "\n",
            "Cost of crop: 555.2\n",
            "\n",
            "Cost of storage: 0.0\n",
            "\n",
            "Earnings: 338242.56\n",
            "\n",
            "\n",
            "Quarter 2\n",
            "\n",
            "BUY 1: 1500.0/1500.0 || IN SILOS : 500.0 || BURN : 1000.0\n",
            "BUY 2: 0.0/0.0 || IN SILOS : 0.0 || BURN : 0.0\n",
            "BUY 3: 1500.0/1500.0 || IN SILOS : 0.0 || BURN : 1500.0\n",
            "BUY 4: 1560.0/1560.0 || IN SILOS : 0.0 || BURN : 1560.0\n",
            "BUY 5: 565.237/680.0 || IN SILOS : 0.0 || BURN : 565.237\n",
            "\n",
            "ENERGY: 1950000.0 kwh\n",
            "\n",
            "Percentage of dry matter: 0.322\n",
            "\n",
            "Money made: 546000.0\n",
            "\n",
            "Cost of crop: 1042.605\n",
            "\n",
            "Cost of storage: 1.0\n",
            "\n",
            "Earnings: 544956.395\n",
            "\n",
            "\n",
            "Quarter 3\n",
            "\n",
            "BUY 1: 700.0/700.0 || IN SILOS : 318.572 || BURN : 881.428\n",
            "BUY 2: 450.0/450.0 || IN SILOS : 0.0 || BURN : 450.0\n",
            "BUY 3: 1500.0/1500.0 || IN SILOS : 106.191 || BURN : 1393.809\n",
            "BUY 4: 820.0/820.0 || IN SILOS : 0.0 || BURN : 820.0\n",
            "BUY 5: 1080.0/1080.0 || IN SILOS : 0.0 || BURN : 1080.0\n",
            "\n",
            "ENERGY: 1950000.0 kwh\n",
            "\n",
            "Percentage of dry matter: 0.325\n",
            "\n",
            "Money made: 546000.0\n",
            "\n",
            "Cost of crop: 926.6\n",
            "\n",
            "Cost of storage: 1.38\n",
            "\n",
            "Earnings: 545072.02\n",
            "\n",
            "\n",
            "Quarter 4\n",
            "\n",
            "BUY 1: 0.0/0.0 || IN SILOS : 0.0 || BURN : 318.572\n",
            "BUY 2: 0.0/0.0 || IN SILOS : 0.0 || BURN : 0.0\n",
            "BUY 3: 0.0/0.0 || IN SILOS : 0.0 || BURN : 106.191\n",
            "BUY 4: 0.0/0.0 || IN SILOS : 0.0 || BURN : 0.0\n",
            "BUY 5: 0.0/0.0 || IN SILOS : 0.0 || BURN : 0.0\n",
            "\n",
            "ENERGY: 179080.0 kwh\n",
            "\n",
            "Percentage of dry matter: 0.2\n",
            "\n",
            "Money made: 50142.4\n",
            "\n",
            "Cost of crop: 0.0\n",
            "\n",
            "Cost of storage: 0.0\n",
            "\n",
            "Earnings: 50142.4\n",
            "\n",
            "\n",
            "Quarter 5\n",
            "\n",
            "BUY 1: 0.0/0.0 || IN SILOS : 0.0 || BURN : 0.0\n",
            "BUY 2: 1350.0/1350.0 || IN SILOS : 0.0 || BURN : 1350.0\n",
            "BUY 3: 0.0/0.0 || IN SILOS : 0.0 || BURN : 0.0\n",
            "BUY 4: 820.0/820.0 || IN SILOS : 0.0 || BURN : 820.0\n",
            "BUY 5: 0.0/0.0 || IN SILOS : 0.0 || BURN : 0.0\n",
            "\n",
            "ENERGY: 914872.0 kwh\n",
            "\n",
            "Percentage of dry matter: 0.314\n",
            "\n",
            "Money made: 256164.16\n",
            "\n",
            "Cost of crop: 415.2\n",
            "\n",
            "Cost of storage: 0.0\n",
            "\n",
            "Earnings: 255748.96\n",
            "\n",
            "\n",
            "Quarter 6\n",
            "\n",
            "BUY 1: 700.0/700.0 || IN SILOS : 0.0 || BURN : 700.0\n",
            "BUY 2: 0.0/0.0 || IN SILOS : 0.0 || BURN : 0.0\n",
            "BUY 3: 1500.0/1500.0 || IN SILOS : 0.0 || BURN : 1500.0\n",
            "BUY 4: 1560.0/1560.0 || IN SILOS : 0.0 || BURN : 1560.0\n",
            "BUY 5: 680.0/680.0 || IN SILOS : 0.0 || BURN : 680.0\n",
            "\n",
            "ENERGY: 1871904.0 kwh\n",
            "\n",
            "Percentage of dry matter: 0.336\n",
            "\n",
            "Money made: 524133.12\n",
            "\n",
            "Cost of crop: 909.0\n",
            "\n",
            "Cost of storage: 0.0\n",
            "\n",
            "Earnings: 523224.12\n",
            "\n",
            "\n",
            "Quarter 7\n",
            "\n",
            "BUY 1: 1500.0/1500.0 || IN SILOS : 375.0 || BURN : 1125.0\n",
            "BUY 2: 450.0/450.0 || IN SILOS : 0.0 || BURN : 450.0\n",
            "BUY 3: 1500.0/1500.0 || IN SILOS : 125.0 || BURN : 1375.0\n",
            "BUY 4: 820.0/820.0 || IN SILOS : 0.0 || BURN : 820.0\n",
            "BUY 5: 855.237/1080.0 || IN SILOS : 0.0 || BURN : 855.237\n",
            "\n",
            "ENERGY: 1950000.0 kwh\n",
            "\n",
            "Percentage of dry matter: 0.311\n",
            "\n",
            "Money made: 546000.0\n",
            "\n",
            "Cost of crop: 1034.905\n",
            "\n",
            "Cost of storage: 1.625\n",
            "\n",
            "Earnings: 544963.47\n",
            "\n",
            "\n",
            "Quarter 8\n",
            "\n",
            "BUY 1: 0.0/0.0 || IN SILOS : 0.0 || BURN : 375.0\n",
            "BUY 2: 0.0/0.0 || IN SILOS : 0.0 || BURN : 0.0\n",
            "BUY 3: 0.0/0.0 || IN SILOS : 0.0 || BURN : 125.0\n",
            "BUY 4: 0.0/0.0 || IN SILOS : 0.0 || BURN : 0.0\n",
            "BUY 5: 0.0/0.0 || IN SILOS : 0.0 || BURN : 0.0\n",
            "\n",
            "ENERGY: 210800.0 kwh\n",
            "\n",
            "Percentage of dry matter: 0.2\n",
            "\n",
            "Money made: 59024.0\n",
            "\n",
            "Cost of crop: 0.0\n",
            "\n",
            "Cost of storage: 0.0\n",
            "\n",
            "Earnings: 59024.0\n",
            "\n"
          ]
        }
      ]
    }
  ],
  "metadata": {
    "colab": {
      "provenance": []
    },
    "kernelspec": {
      "display_name": "Python 3",
      "name": "python3"
    },
    "language_info": {
      "name": "python"
    },
    "gpuClass": "standard"
  },
  "nbformat": 4,
  "nbformat_minor": 0
}